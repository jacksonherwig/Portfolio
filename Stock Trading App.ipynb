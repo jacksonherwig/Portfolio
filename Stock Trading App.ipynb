{
 "cells": [
  {
   "cell_type": "markdown",
   "metadata": {},
   "source": [
    "### What I want for future iterations\n",
    "- ~~RSI functionality~~\n",
    "- ~~Ability to handle multiple stocks at a time~~\n",
    "- ~~Shorter time spans (Looking to swing trade with about 2 week periods rather than over the course of years)~~\n",
    "- Improvements to algorithm. \n",
    "- ~~Make so stocks can import from yahoo finance~~\n",
    "- Some addition of possible sentiment analysis through web scraping would be very interesting.\n",
    "- Alpaca API usage that actually trades in paper through Alpaca"
   ]
  },
  {
   "cell_type": "markdown",
   "metadata": {},
   "source": [
    "# Initialize Portfolio\n",
    "We will use this class to trade the stocks and track the algorithms effectiveness."
   ]
  },
  {
   "cell_type": "code",
   "execution_count": 1,
   "metadata": {},
   "outputs": [],
   "source": [
    "#Uses the dual moving average crossover to detirmine when to buy and sell stock\n",
    "\n",
    "\n",
    "import pandas as pd\n",
    "import numpy as np\n",
    "from datetime import datetime\n",
    "import matplotlib.pyplot as plt\n",
    "import yfinance as yf\n",
    "import shutil, os, time, glob\n",
    "import requests\n",
    "from get_all_tickers import get_tickers as gt\n",
    "from statistics import mean\n",
    "import seaborn as sns\n",
    "plt.style.use('fivethirtyeight')"
   ]
  },
  {
   "cell_type": "code",
   "execution_count": 2,
   "metadata": {},
   "outputs": [],
   "source": [
    "#Amount of money in our portfolio.\n",
    "class InvestmentPortfolio:\n",
    "    \"\"\"Creates an investment portfolio that asks for an initial investment and a trade quantity. This will keep track of our trades.\"\"\"\n",
    "    def __init__(self, initial_investment, trade_quantity):\n",
    "        self.initial_investment = initial_investment\n",
    "        self.trade_quantity = trade_quantity\n",
    "        self.tradeRecords = []\n",
    "        self.final_investment = initial_investment\n",
    "    \n",
    "    def buyStock(self,position):\n",
    "        position = position\n",
    "        self.final_investment -= self.trade_quantity * TradeData['Prices'][position]\n",
    "        self.tradeRecords.append(\"Bought: \" + str(self.trade_quantity) + \" stock(s) at: \" + str(TradeData['Prices'][position]))\n",
    "    \n",
    "    def sellStock(self,position):\n",
    "        self.final_investment += self.trade_quantity * TradeData['Prices'][position]\n",
    "        self.tradeRecords.append(\"Sold: \" + str(self.trade_quantity) + \" stock(s) at: \" + str(TradeData['Prices'][position]))\n",
    "\n",
    "\n"
   ]
  },
  {
   "cell_type": "markdown",
   "metadata": {},
   "source": [
    "## Retrieve Data From Yahoo Finance And Saves It In Path "
   ]
  },
  {
   "cell_type": "code",
   "execution_count": 3,
   "metadata": {},
   "outputs": [
    {
     "name": "stdout",
     "output_type": "stream",
     "text": [
      "The amount of stocks chosen to observe: 2\n"
     ]
    }
   ],
   "source": [
    "#List of tickers we want to analyze, change this to get more stocks.\n",
    "tickers = ['AAPL', 'AMZN']\n",
    "print(\"The amount of stocks chosen to observe: \" + str(len(tickers)))"
   ]
  },
  {
   "cell_type": "code",
   "execution_count": 12,
   "metadata": {},
   "outputs": [
    {
     "name": "stdout",
     "output_type": "stream",
     "text": [
      "Iteration = 0\n",
      "Iteration = 1\n",
      "The amount of stocks we successfully imported: 2\n"
     ]
    }
   ],
   "source": [
    "#Clears the old stock data\n",
    "shutil.rmtree(r\"C:\\Users\\Jack\\Google Drive\\The Drive\\DataAnalytics\\Stock Trading\\HistoricalData\")\n",
    "os.mkdir(r\"C:\\Users\\Jack\\Google Drive\\The Drive\\DataAnalytics\\Stock Trading\\HistoricalData\")\n",
    "\n",
    "#Clears RSI Folder\n",
    "shutil.rmtree(r\"C:\\Users\\Jack\\Google Drive\\The Drive\\DataAnalytics\\Stock Trading\\RSIData\")\n",
    "os.mkdir(r\"C:\\Users\\Jack\\Google Drive\\The Drive\\DataAnalytics\\Stock Trading\\RSIData\")\n",
    "\n",
    "#The period and interval of the data we want on our stocks.\n",
    "prd= '1d'\n",
    "intv='1m'\n",
    "\n",
    "\n",
    "Stock_Failure = 0\n",
    "Stocks_Not_Imported = 0\n",
    "Amount_of_API_Calls = 0\n",
    "v=0\n",
    "\n",
    "while (v < len(tickers)) and (Amount_of_API_Calls < 1800):\n",
    "    try:\n",
    "        ticker_name = str(tickers[v])\n",
    "        print(\"Iteration = \" + str(v))\n",
    "        stock = tickers[v]  # Gets the current stock ticker\n",
    "        temp = yf.Ticker(str(stock))\n",
    "        Hist_data = temp.history(period=prd, interval=intv)  # Tells yfinance what kind of data we want about this stock (In this example, all of the historical data)\n",
    "        Hist_data.to_csv(r\"C:\\Users\\Jack\\Google Drive\\The Drive\\DataAnalytics\\Stock Trading\\HistoricalData/%s.csv\" % ticker_name)  # Saves the historical data in csv format for further processing later\n",
    "        time.sleep(2)  # Pauses the loop for two seconds so we don't cause issues with Yahoo Finance's backend operations\n",
    "        Amount_of_API_Calls += 1 \n",
    "        Stock_Failure = 0\n",
    "        v += 1  # Iteration to the next ticker\n",
    "    except ValueError:\n",
    "        print(\"Yahoo Finance Backend Error, Attempting to Fix\")  # An error occured on Yahoo Finance's backend. We will attempt to retreive the data again\n",
    "        if Stock_Failure > 5:  # Move on to the next ticker if the current ticker fails more than 5 times\n",
    "            v+=1\n",
    "            Stocks_Not_Imported += 1\n",
    "        Amount_of_API_Calls += 1\n",
    "        Stock_Failure += 1\n",
    "    # Handle SSL error\n",
    "    except requests.exceptions.SSLError as e:\n",
    "        print(\"Yahoo Finance Backend Error, Attempting to Fix SSL\")  # An error occured on Yahoo Finance's backend. We will attempt to retreive the data again\n",
    "        if Stock_Failure > 5:  # Move on to the next ticker if the current ticker fails more than 5 times\n",
    "            v+=1\n",
    "            Stocks_Not_Imported += 1\n",
    "        Amount_of_API_Calls += 1\n",
    "        Stock_Failure += 1\n",
    "print(\"The amount of stocks we successfully imported: \" + str(v - Stocks_Not_Imported))"
   ]
  },
  {
   "cell_type": "markdown",
   "metadata": {},
   "source": [
    "# Generation of RSI Data"
   ]
  },
  {
   "cell_type": "code",
   "execution_count": 13,
   "metadata": {},
   "outputs": [],
   "source": [
    "#Creates a data frame we will used later for analysis of different stocks.\n",
    "Compare_Stocks = pd.DataFrame(columns=[\"Company\", \"Days_Observed\", \"Crosses\", \n",
    "                                       \"True_Positive\", \"False_Positive\", \"True_Negative\", \n",
    "                                       \"False_Negative\", \"Sensitivity\", \n",
    "                                       \"Specificity\", \"Accuracy\", \"TPR\", \"FPR\"]) \n",
    "\n",
    "i = 0\n",
    "while (i < len(tickers)):\n",
    "    ticker_name = str(tickers[i])\n",
    "    Hist_data = pd.read_csv(r\"C:\\Users\\Jack\\Google Drive\\The Drive\\DataAnalytics\\Stock Trading\\HistoricalData/%s.csv\" % ticker_name)\n",
    "    Company = str(tickers)[i]\n",
    "    \n",
    "    #Holds prices of a stock\n",
    "    prices = []\n",
    "    #iterator for our nested while loop\n",
    "    c=0\n",
    "    #add closing prices to price list and ensure we start at greater than 2 dollars per share\n",
    "    while c < len(Hist_data):\n",
    "        if Hist_data.iloc[c,4]:\n",
    "            prices.append(Hist_data.iloc[c,4])\n",
    "        c+=1\n",
    "        \n",
    "    #Makes a dataframe out of our prices data\n",
    "    prices_df = pd.DataFrame(prices)\n",
    "    \n",
    "    #Iterator for our next while loop\n",
    "    d=0\n",
    "    upPrices = []\n",
    "    downPrices = []\n",
    "    \n",
    "    #While loop that records the amount that prices moved up or down in a certain position.\n",
    "    while d < len(prices):\n",
    "        #If we are on our first iteration, just record the prices as is\n",
    "        if d == 0:\n",
    "            upPrices.append(0)\n",
    "            downPrices.append(0)\n",
    "        else:  \n",
    "            if (prices[d]-prices[d-1])>0:  #If price at location - price at previous location is greater than zero, we record an up price\n",
    "                upPrices.append(prices[d]-prices[d-1])\n",
    "                downPrices.append(0)\n",
    "            else:\n",
    "                downPrices.append(prices[d]-prices[d-1]) #Converse of previous note\n",
    "                upPrices.append(0)\n",
    "        d += 1\n",
    "    \n",
    "    #Iterator for our next while loop in this piece of the program.\n",
    "    x = 0\n",
    "    avg_gain = []\n",
    "    avg_loss = []\n",
    "    #  Loop to calculate the average gain and loss\n",
    "    while x < len(upPrices):\n",
    "        if x < 15:\n",
    "            avg_gain.append(0)\n",
    "            avg_loss.append(0)\n",
    "        else:\n",
    "            sumGain = 0\n",
    "            sumLoss = 0\n",
    "            y = x - 14\n",
    "            while y <= x:\n",
    "                sumGain += upPrices[y]\n",
    "                sumLoss += downPrices[y]\n",
    "                y += 1\n",
    "            avg_gain.append(sumGain/14)\n",
    "            avg_loss.append(abs(sumLoss/14))\n",
    "        x += 1\n",
    "    \n",
    "    #Iterator for our final while loop that then calculates the RSI value and stores it.\n",
    "    p = 0\n",
    "    RS = []\n",
    "    RSI = []\n",
    "    #  Loop to calculate RSI and RS\n",
    "    while p < len(prices):\n",
    "        if p <15:\n",
    "            RS.append(0)\n",
    "            RSI.append(0)\n",
    "        else:\n",
    "            RSvalue = (avg_gain[p]/avg_loss[p])\n",
    "            RS.append(RSvalue)\n",
    "            RSI.append(100 - (100/(1+RSvalue)))\n",
    "        p+=1\n",
    "    #  Creates the csv for each stock's RSI and price movements\n",
    "    df_dict = {\n",
    "        'Prices' : prices,\n",
    "        'upPrices' : upPrices,\n",
    "        'downPrices' : downPrices,\n",
    "        'AvgGain' : avg_gain,\n",
    "        'AvgLoss' : avg_loss,\n",
    "        'RS' : RS,\n",
    "        'RSI' : RSI\n",
    "    }\n",
    "    df = pd.DataFrame(df_dict, columns = ['Prices', 'upPrices', 'downPrices', 'AvgGain','AvgLoss', 'RS', \"RSI\"])\n",
    "    df.to_csv(r\"C:\\Users\\Jack\\Google Drive\\The Drive\\DataAnalytics\\Stock Trading\\RSIData/RSI_%s.csv\" % ticker_name)\n",
    "    \n",
    "    i += 1\n",
    "\n"
   ]
  },
  {
   "cell_type": "markdown",
   "metadata": {},
   "source": [
    "# Data Collection Complete"
   ]
  },
  {
   "cell_type": "markdown",
   "metadata": {},
   "source": [
    "Now that we have all the data we need, we can start to detirmine the best strategy for using the RSI to predict\n",
    "stock prices, and therefore use it to analyze real time markets and see if its worth buying a stock at a specific point of\n",
    "time!"
   ]
  },
  {
   "cell_type": "markdown",
   "metadata": {},
   "source": [
    "# Visualize Data"
   ]
  },
  {
   "cell_type": "code",
   "execution_count": 10,
   "metadata": {},
   "outputs": [
    {
     "name": "stdout",
     "output_type": "stream",
     "text": [
      "Enter Stock Ticker To Graph: AAPL\n"
     ]
    }
   ],
   "source": [
    "#Basic plot\n",
    "vis_ticker = input('Enter Stock Ticker To Graph: ')\n",
    "data = pd.read_csv(r\"C:\\Users\\Jack\\Google Drive\\The Drive\\DataAnalytics\\Stock Trading\\RSIData\\RSI_%s.csv\" % vis_ticker)\n"
   ]
  },
  {
   "cell_type": "code",
   "execution_count": 11,
   "metadata": {},
   "outputs": [
    {
     "data": {
      "image/png": "[encoded data removed]",
      "text/plain": [
       "<Figure size 864x576 with 2 Axes>"
      ]
     },
     "metadata": {},
     "output_type": "display_data"
    }
   ],
   "source": [
    "fig, ax1 = plt.subplots(figsize=(12,8))\n",
    "ax1.set_xlabel('Last '+prd+' in '+intv+' intervals')\n",
    "ax1.set_ylabel('Close Price in USD ($)')\n",
    "ax1.plot(data['Prices'], color='blue')\n",
    "ax1.legend('Price')\n",
    "ax1.tick_params(axis='y')\n",
    "\n",
    "ax2 = ax1.twinx() \n",
    "\n",
    "ax2.set_ylabel('RSI Value')\n",
    "ax2.plot(data['RSI'], color='red', alpha=.55)\n",
    "ax2.legend('RSI')\n",
    "ax2.tick_params(axis='y', labelcolor='red')"
   ]
  },
  {
   "cell_type": "markdown",
   "metadata": {},
   "source": [
    "# RSI Visualization "
   ]
  },
  {
   "cell_type": "code",
   "execution_count": 11,
   "metadata": {},
   "outputs": [
    {
     "ename": "NameError",
     "evalue": "name 'TradeData' is not defined",
     "output_type": "error",
     "traceback": [
      "\u001b[1;31m---------------------------------------------------------------------------\u001b[0m",
      "\u001b[1;31mNameError\u001b[0m                                 Traceback (most recent call last)",
      "\u001b[1;32m<ipython-input-11-a1411bad0626>\u001b[0m in \u001b[0;36m<module>\u001b[1;34m\u001b[0m\n\u001b[1;32m----> 1\u001b[1;33m \u001b[0mTradeData\u001b[0m\u001b[1;33m[\u001b[0m\u001b[1;34m'RSI'\u001b[0m\u001b[1;33m]\u001b[0m\u001b[1;33m.\u001b[0m\u001b[0mdescribe\u001b[0m\u001b[1;33m(\u001b[0m\u001b[1;33m)\u001b[0m\u001b[1;33m\u001b[0m\u001b[1;33m\u001b[0m\u001b[0m\n\u001b[0m",
      "\u001b[1;31mNameError\u001b[0m: name 'TradeData' is not defined"
     ]
    }
   ],
   "source": [
    "TradeData['RSI'].describe()"
   ]
  },
  {
   "cell_type": "code",
   "execution_count": 12,
   "metadata": {},
   "outputs": [
    {
     "ename": "NameError",
     "evalue": "name 'TradeData' is not defined",
     "output_type": "error",
     "traceback": [
      "\u001b[1;31m---------------------------------------------------------------------------\u001b[0m",
      "\u001b[1;31mNameError\u001b[0m                                 Traceback (most recent call last)",
      "\u001b[1;32m<ipython-input-12-8d14467d062c>\u001b[0m in \u001b[0;36m<module>\u001b[1;34m\u001b[0m\n\u001b[0;32m      1\u001b[0m \u001b[0mfig\u001b[0m\u001b[1;33m,\u001b[0m \u001b[0max\u001b[0m \u001b[1;33m=\u001b[0m \u001b[0mplt\u001b[0m\u001b[1;33m.\u001b[0m\u001b[0msubplots\u001b[0m\u001b[1;33m(\u001b[0m\u001b[0mfigsize\u001b[0m\u001b[1;33m=\u001b[0m\u001b[1;33m(\u001b[0m\u001b[1;36m12\u001b[0m\u001b[1;33m,\u001b[0m\u001b[1;36m6\u001b[0m\u001b[1;33m)\u001b[0m\u001b[1;33m)\u001b[0m\u001b[1;33m\u001b[0m\u001b[1;33m\u001b[0m\u001b[0m\n\u001b[1;32m----> 2\u001b[1;33m \u001b[0msns\u001b[0m\u001b[1;33m.\u001b[0m\u001b[0mboxplot\u001b[0m\u001b[1;33m(\u001b[0m\u001b[0mTradeData\u001b[0m\u001b[1;33m[\u001b[0m\u001b[1;34m'RSI'\u001b[0m\u001b[1;33m]\u001b[0m\u001b[1;33m)\u001b[0m\u001b[1;33m\u001b[0m\u001b[1;33m\u001b[0m\u001b[0m\n\u001b[0m",
      "\u001b[1;31mNameError\u001b[0m: name 'TradeData' is not defined"
     ]
    },
    {
     "data": {
      "image/png": "[encoded data removed]",
      "text/plain": [
       "<Figure size 864x432 with 1 Axes>"
      ]
     },
     "metadata": {},
     "output_type": "display_data"
    }
   ],
   "source": [
    "fig, ax = plt.subplots(figsize=(12,6))\n",
    "sns.boxplot(TradeData['RSI'])"
   ]
  },
  {
   "cell_type": "code",
   "execution_count": 13,
   "metadata": {},
   "outputs": [
    {
     "ename": "NameError",
     "evalue": "name 'TradeData' is not defined",
     "output_type": "error",
     "traceback": [
      "\u001b[1;31m---------------------------------------------------------------------------\u001b[0m",
      "\u001b[1;31mNameError\u001b[0m                                 Traceback (most recent call last)",
      "\u001b[1;32m<ipython-input-13-7150ecdb095a>\u001b[0m in \u001b[0;36m<module>\u001b[1;34m\u001b[0m\n\u001b[1;32m----> 1\u001b[1;33m \u001b[0msns\u001b[0m\u001b[1;33m.\u001b[0m\u001b[0mcountplot\u001b[0m\u001b[1;33m(\u001b[0m\u001b[0mTradeData\u001b[0m\u001b[1;33m[\u001b[0m\u001b[1;34m'RSI'\u001b[0m\u001b[1;33m]\u001b[0m\u001b[1;33m<\u001b[0m\u001b[1;36m10\u001b[0m\u001b[1;33m)\u001b[0m\u001b[1;33m\u001b[0m\u001b[1;33m\u001b[0m\u001b[0m\n\u001b[0m",
      "\u001b[1;31mNameError\u001b[0m: name 'TradeData' is not defined"
     ]
    }
   ],
   "source": [
    "sns.countplot(TradeData['RSI']<10)"
   ]
  },
  {
   "cell_type": "code",
   "execution_count": 68,
   "metadata": {},
   "outputs": [
    {
     "name": "stderr",
     "output_type": "stream",
     "text": [
      "C:\\Users\\Jack\\Documents\\Python\\lib\\site-packages\\seaborn\\_decorators.py:43: FutureWarning: Pass the following variable as a keyword arg: x. From version 0.12, the only valid positional argument will be `data`, and passing other arguments without an explicit keyword will result in an error or misinterpretation.\n",
      "  FutureWarning\n"
     ]
    },
    {
     "data": {
      "text/plain": [
       "<AxesSubplot:xlabel='RSI', ylabel='count'>"
      ]
     },
     "execution_count": 68,
     "metadata": {},
     "output_type": "execute_result"
    },
    {
     "data": {
      "image/png": "[encoded data removed]",
      "text/plain": [
       "<Figure size 432x288 with 1 Axes>"
      ]
     },
     "metadata": {},
     "output_type": "display_data"
    }
   ],
   "source": [
    "sns.countplot(TradeData['RSI']>90)"
   ]
  },
  {
   "cell_type": "markdown",
   "metadata": {},
   "source": [
    "# Generate Buy And Sell Signals"
   ]
  },
  {
   "cell_type": "markdown",
   "metadata": {},
   "source": [
    "This is the meat of the program. We are now going to employ a couple of different strategies to try and maximize our profit. We give ourselves some money, and based on the prices in TradeData and the RSI signals we have, we are going to run through this historical data and attempt to predict good buy and sell times. Then, we will unleash it on some other different stocks and try to maximize our profit. I will be including some risk appetite values that will affect the desire of the algorithm to take different plays."
   ]
  },
  {
   "cell_type": "markdown",
   "metadata": {},
   "source": [
    "# Important!!! Run a while loop that tests different buy and sell limit values and observe the results."
   ]
  },
  {
   "cell_type": "code",
   "execution_count": 14,
   "metadata": {},
   "outputs": [
    {
     "name": "stdout",
     "output_type": "stream",
     "text": [
      "Input ticker you want to analyze: AAPL\n"
     ]
    }
   ],
   "source": [
    "#This prepares tracking the RSI signals we get based on the RSI value.\n",
    "\n",
    "bot_trade_ticker = input(\"Input ticker you want to analyze: \")\n",
    "TradeData = pd.read_csv(r\"C:\\Users\\Jack\\Google Drive\\The Drive\\DataAnalytics\\Stock Trading\\RSIData\\RSI_%s.csv\" % bot_trade_ticker)\n",
    "\n",
    "RSI_selections = []\n",
    "\n",
    "#These0140 are our RSI limits. We can change these around for different results\n",
    "buy_limit = 30\n",
    "sell_limit = 75\n",
    "\n",
    "#This is the wait \"period\" before we sell after buying at a low RSI. \n",
    "wait_period = 14"
   ]
  },
  {
   "cell_type": "markdown",
   "metadata": {},
   "source": [
    "# Run Algorithm"
   ]
  },
  {
   "cell_type": "markdown",
   "metadata": {},
   "source": [
    "First we generate our buy and sell signals."
   ]
  },
  {
   "cell_type": "code",
   "execution_count": 64,
   "metadata": {},
   "outputs": [],
   "source": [
    "\n",
    "a = 0\n",
    "while a < len(TradeData):\n",
    "    if TradeData['RSI'][a] == 0:\n",
    "        RSI_selections.append('No Signal')\n",
    "    elif TradeData['RSI'][a] <=buy_limit:\n",
    "        RSI_selections.append('Buy Signal')\n",
    "    elif TradeData['RSI'][a] >= sell_limit:\n",
    "        RSI_selections.append('Sell Signal')\n",
    "    else:\n",
    "        RSI_selections.append('No Signal')\n",
    "    a+=1\n",
    "\n",
    "Signals = pd.DataFrame(RSI_selections,columns=['Signal'])\n",
    "TradeData = TradeData.join(Signals)"
   ]
  },
  {
   "cell_type": "code",
   "execution_count": 66,
   "metadata": {},
   "outputs": [],
   "source": [
    "portfolio = InvestmentPortfolio(100000, 100)\n",
    "OrderTracker = pd.DataFrame(columns=['BuyID', 'BQuantity','BPrice','BTotal','SellID','SQuantity','SPrice','STotal'])\n",
    "a = 0\n",
    "#If we buy, it will change to 1. This will only flip back to 0 once we have sold. \n",
    "#(Making one purchase at a time for simplicity sake for now)\n",
    "buy_sell_boolean = 0\n",
    "\n",
    "#Now we will run through the whole RSI TradeData dataframe.\n",
    "#We will track our buy and sell orders, and get a final portfolio value at the end.\n",
    "#This will also let us keep track of our portfolio value.\n",
    "while a < len(TradeData):\n",
    "    if(buy_sell_boolean == 0 and TradeData['Signal'][a] == 'Buy Signal'):\n",
    "        portfolio.buyStock(a)\n",
    "        buy_sell_boolean = 1\n",
    "    elif(buy_sell_boolean == 1 and TradeData['Signal'][a] == 'Sell Signal'):\n",
    "        portfolio.sellStock(a)\n",
    "        buy_sell_boolean = 0\n",
    "    else:\n",
    "        pass\n",
    "    a+=1"
   ]
  },
  {
   "cell_type": "markdown",
   "metadata": {},
   "source": [
    "# Performance Check"
   ]
  },
  {
   "cell_type": "code",
   "execution_count": 67,
   "metadata": {},
   "outputs": [
    {
     "name": "stdout",
     "output_type": "stream",
     "text": [
      "Final Investment: 100168.0\n",
      "Profit: 168.0\n",
      "List of purchase and sell orders\n",
      "['Bought: 100 stock(s) at: 113.87', 'Sold: 100 stock(s) at: 112.28', 'Bought: 100 stock(s) at: 113.3', 'Sold: 100 stock(s) at: 116.57']\n"
     ]
    }
   ],
   "source": [
    "print('Final Investment: '+str(portfolio.final_investment))\n",
    "print('Profit: '+str(portfolio.final_investment - portfolio.initial_investment))\n",
    "print('List of purchase and sell orders')\n",
    "print(portfolio.tradeRecords)"
   ]
  },
  {
   "cell_type": "markdown",
   "metadata": {},
   "source": [
    "# Further Improvements To Be Made\n",
    "- Stop limits to minimize losses!\n",
    "- Averaging into a play.\n",
    "- Risk appetite (Sort of plays into stop limits: What kind of spread are we looking for risk wise?)\n",
    "- Patience score\n",
    "- At least attempt to apply a neural network.\n"
   ]
  },
  {
   "cell_type": "code",
   "execution_count": null,
   "metadata": {},
   "outputs": [],
   "source": []
  }
 ],
 "metadata": {
  "kernelspec": {
   "display_name": "Python 3",
   "language": "python",
   "name": "python3"
  },
  "language_info": {
   "codemirror_mode": {
    "name": "ipython",
    "version": 3
   },
   "file_extension": ".py",
   "mimetype": "text/x-python",
   "name": "python",
   "nbconvert_exporter": "python",
   "pygments_lexer": "ipython3",
   "version": "3.7.6"
  }
 },
 "nbformat": 4,
 "nbformat_minor": 4
}
